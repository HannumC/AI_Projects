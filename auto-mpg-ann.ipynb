{
 "cells": [
  {
   "cell_type": "code",
   "execution_count": 159,
   "metadata": {},
   "outputs": [],
   "source": [
    "import pandas as pd\n",
    "from sklearn import preprocessing\n",
    "from sklearn.model_selection import train_test_split\n",
    "from keras.models import Sequential\n",
    "from keras.layers import Dense\n",
    "import matplotlib.pyplot as plt\n",
    "import sklearn.metrics as metrics\n",
    "\n"
   ]
  },
  {
   "cell_type": "code",
   "execution_count": 2,
   "metadata": {},
   "outputs": [],
   "source": [
    "autompg = pd.read_csv(\"/Users/coreyhannum/Desktop/Auto-MPG/auto-mpg-New.csv\")"
   ]
  },
  {
   "cell_type": "code",
   "execution_count": 3,
   "metadata": {},
   "outputs": [
    {
     "data": {
      "text/html": [
       "<div>\n",
       "<style scoped>\n",
       "    .dataframe tbody tr th:only-of-type {\n",
       "        vertical-align: middle;\n",
       "    }\n",
       "\n",
       "    .dataframe tbody tr th {\n",
       "        vertical-align: top;\n",
       "    }\n",
       "\n",
       "    .dataframe thead th {\n",
       "        text-align: right;\n",
       "    }\n",
       "</style>\n",
       "<table border=\"1\" class=\"dataframe\">\n",
       "  <thead>\n",
       "    <tr style=\"text-align: right;\">\n",
       "      <th></th>\n",
       "      <th>Unnamed: 0</th>\n",
       "      <th>mpg</th>\n",
       "      <th>cylinders</th>\n",
       "      <th>displacement</th>\n",
       "      <th>horsepower</th>\n",
       "      <th>weight</th>\n",
       "      <th>acceleration</th>\n",
       "      <th>model year</th>\n",
       "      <th>origin</th>\n",
       "      <th>name</th>\n",
       "      <th>mpgCat</th>\n",
       "      <th>low</th>\n",
       "      <th>average</th>\n",
       "      <th>high</th>\n",
       "    </tr>\n",
       "  </thead>\n",
       "  <tbody>\n",
       "    <tr>\n",
       "      <th>0</th>\n",
       "      <td>0</td>\n",
       "      <td>18.0</td>\n",
       "      <td>8</td>\n",
       "      <td>307.0</td>\n",
       "      <td>130</td>\n",
       "      <td>3504</td>\n",
       "      <td>12.0</td>\n",
       "      <td>70</td>\n",
       "      <td>1</td>\n",
       "      <td>chevrolet chevelle malibu</td>\n",
       "      <td>low</td>\n",
       "      <td>1</td>\n",
       "      <td>0</td>\n",
       "      <td>0</td>\n",
       "    </tr>\n",
       "    <tr>\n",
       "      <th>1</th>\n",
       "      <td>1</td>\n",
       "      <td>15.0</td>\n",
       "      <td>8</td>\n",
       "      <td>350.0</td>\n",
       "      <td>165</td>\n",
       "      <td>3693</td>\n",
       "      <td>11.5</td>\n",
       "      <td>70</td>\n",
       "      <td>1</td>\n",
       "      <td>buick skylark 320</td>\n",
       "      <td>low</td>\n",
       "      <td>1</td>\n",
       "      <td>0</td>\n",
       "      <td>0</td>\n",
       "    </tr>\n",
       "    <tr>\n",
       "      <th>2</th>\n",
       "      <td>2</td>\n",
       "      <td>18.0</td>\n",
       "      <td>8</td>\n",
       "      <td>318.0</td>\n",
       "      <td>150</td>\n",
       "      <td>3436</td>\n",
       "      <td>11.0</td>\n",
       "      <td>70</td>\n",
       "      <td>1</td>\n",
       "      <td>plymouth satellite</td>\n",
       "      <td>low</td>\n",
       "      <td>1</td>\n",
       "      <td>0</td>\n",
       "      <td>0</td>\n",
       "    </tr>\n",
       "    <tr>\n",
       "      <th>3</th>\n",
       "      <td>3</td>\n",
       "      <td>16.0</td>\n",
       "      <td>8</td>\n",
       "      <td>304.0</td>\n",
       "      <td>150</td>\n",
       "      <td>3433</td>\n",
       "      <td>12.0</td>\n",
       "      <td>70</td>\n",
       "      <td>1</td>\n",
       "      <td>amc rebel sst</td>\n",
       "      <td>low</td>\n",
       "      <td>1</td>\n",
       "      <td>0</td>\n",
       "      <td>0</td>\n",
       "    </tr>\n",
       "    <tr>\n",
       "      <th>4</th>\n",
       "      <td>4</td>\n",
       "      <td>17.0</td>\n",
       "      <td>8</td>\n",
       "      <td>302.0</td>\n",
       "      <td>140</td>\n",
       "      <td>3449</td>\n",
       "      <td>10.5</td>\n",
       "      <td>70</td>\n",
       "      <td>1</td>\n",
       "      <td>ford torino</td>\n",
       "      <td>low</td>\n",
       "      <td>1</td>\n",
       "      <td>0</td>\n",
       "      <td>0</td>\n",
       "    </tr>\n",
       "  </tbody>\n",
       "</table>\n",
       "</div>"
      ],
      "text/plain": [
       "   Unnamed: 0   mpg  cylinders  displacement  horsepower  weight  \\\n",
       "0           0  18.0          8         307.0         130    3504   \n",
       "1           1  15.0          8         350.0         165    3693   \n",
       "2           2  18.0          8         318.0         150    3436   \n",
       "3           3  16.0          8         304.0         150    3433   \n",
       "4           4  17.0          8         302.0         140    3449   \n",
       "\n",
       "   acceleration  model year  origin                       name mpgCat  low  \\\n",
       "0          12.0          70       1  chevrolet chevelle malibu    low    1   \n",
       "1          11.5          70       1          buick skylark 320    low    1   \n",
       "2          11.0          70       1         plymouth satellite    low    1   \n",
       "3          12.0          70       1              amc rebel sst    low    1   \n",
       "4          10.5          70       1                ford torino    low    1   \n",
       "\n",
       "   average  high  \n",
       "0        0     0  \n",
       "1        0     0  \n",
       "2        0     0  \n",
       "3        0     0  \n",
       "4        0     0  "
      ]
     },
     "execution_count": 3,
     "metadata": {},
     "output_type": "execute_result"
    }
   ],
   "source": [
    "autompg.head()"
   ]
  },
  {
   "cell_type": "code",
   "execution_count": 4,
   "metadata": {},
   "outputs": [],
   "source": [
    "autoMpgArr = autompg.values"
   ]
  },
  {
   "cell_type": "code",
   "execution_count": 5,
   "metadata": {},
   "outputs": [
    {
     "data": {
      "text/plain": [
       "array([[0, 18.0, 8, ..., 1, 0, 0],\n",
       "       [1, 15.0, 8, ..., 1, 0, 0],\n",
       "       [2, 18.0, 8, ..., 1, 0, 0],\n",
       "       ...,\n",
       "       [395, 32.0, 4, ..., 0, 1, 0],\n",
       "       [396, 28.0, 4, ..., 0, 1, 0],\n",
       "       [397, 31.0, 4, ..., 0, 1, 0]], dtype=object)"
      ]
     },
     "execution_count": 5,
     "metadata": {},
     "output_type": "execute_result"
    }
   ],
   "source": [
    "autoMpgArr"
   ]
  },
  {
   "cell_type": "code",
   "execution_count": 6,
   "metadata": {},
   "outputs": [],
   "source": [
    "X = autoMpgArr[:, 2:8]\n",
    "y = autoMpgArr[:,11:14]"
   ]
  },
  {
   "cell_type": "code",
   "execution_count": 7,
   "metadata": {},
   "outputs": [
    {
     "data": {
      "text/plain": [
       "array([[8, 307.0, 130, 3504, 12.0, 70],\n",
       "       [8, 350.0, 165, 3693, 11.5, 70],\n",
       "       [8, 318.0, 150, 3436, 11.0, 70],\n",
       "       ...,\n",
       "       [4, 135.0, 84, 2295, 11.6, 82],\n",
       "       [4, 120.0, 79, 2625, 18.6, 82],\n",
       "       [4, 119.0, 82, 2720, 19.4, 82]], dtype=object)"
      ]
     },
     "execution_count": 7,
     "metadata": {},
     "output_type": "execute_result"
    }
   ],
   "source": [
    "X"
   ]
  },
  {
   "cell_type": "markdown",
   "metadata": {},
   "source": [
    "trasform data to be between 0 and 1"
   ]
  },
  {
   "cell_type": "code",
   "execution_count": 8,
   "metadata": {},
   "outputs": [],
   "source": [
    "min_max_scaler = preprocessing.MinMaxScaler()\n",
    "X_scale = min_max_scaler.fit_transform(X)"
   ]
  },
  {
   "cell_type": "code",
   "execution_count": 9,
   "metadata": {},
   "outputs": [
    {
     "data": {
      "text/plain": [
       "array([[1.        , 0.61757106, 0.45652174, 0.5361497 , 0.23809524,\n",
       "        0.        ],\n",
       "       [1.        , 0.72868217, 0.64673913, 0.58973632, 0.20833333,\n",
       "        0.        ],\n",
       "       [1.        , 0.64599483, 0.56521739, 0.51686986, 0.17857143,\n",
       "        0.        ],\n",
       "       ...,\n",
       "       [0.2       , 0.17312661, 0.20652174, 0.19336547, 0.21428571,\n",
       "        1.        ],\n",
       "       [0.2       , 0.13436693, 0.17934783, 0.2869294 , 0.63095238,\n",
       "        1.        ],\n",
       "       [0.2       , 0.13178295, 0.19565217, 0.31386447, 0.67857143,\n",
       "        1.        ]])"
      ]
     },
     "execution_count": 9,
     "metadata": {},
     "output_type": "execute_result"
    }
   ],
   "source": [
    "X_scale"
   ]
  },
  {
   "cell_type": "markdown",
   "metadata": {},
   "source": [
    "Training set = 70%\n",
    "Testing set = 15%\n",
    "Validation set = 15%"
   ]
  },
  {
   "cell_type": "code",
   "execution_count": 124,
   "metadata": {},
   "outputs": [],
   "source": [
    "X_train, X_val_and_test, Y_train, Y_val_and_test = train_test_split(X_scale, y, test_size=0.3)\n",
    "X_val, X_test, Y_val, Y_test = train_test_split(X_val_and_test, Y_val_and_test, test_size=0.5)"
   ]
  },
  {
   "cell_type": "code",
   "execution_count": 125,
   "metadata": {},
   "outputs": [
    {
     "name": "stdout",
     "output_type": "stream",
     "text": [
      "(274, 6) (59, 6) (59, 6) (274, 3) (59, 3) (59, 3)\n"
     ]
    }
   ],
   "source": [
    "print(X_train.shape, X_val.shape, X_test.shape, Y_train.shape, Y_val.shape, Y_test.shape)\n"
   ]
  },
  {
   "cell_type": "code",
   "execution_count": 142,
   "metadata": {},
   "outputs": [],
   "source": [
    "model = Sequential([Dense(25, activation='relu', input_shape=(6,)), \n",
    "                    Dense(25, activation='relu'), Dense(3, activation='sigmoid'),])\n"
   ]
  },
  {
   "cell_type": "code",
   "execution_count": 143,
   "metadata": {},
   "outputs": [],
   "source": [
    "model.compile(optimizer='sgd', loss='binary_crossentropy', metrics=['accuracy'])"
   ]
  },
  {
   "cell_type": "code",
   "execution_count": 144,
   "metadata": {},
   "outputs": [
    {
     "name": "stdout",
     "output_type": "stream",
     "text": [
      "Train on 274 samples, validate on 59 samples\n",
      "Epoch 1/100\n",
      "274/274 [==============================] - 0s 416us/step - loss: 0.6621 - accuracy: 0.7749 - val_loss: 0.6511 - val_accuracy: 0.8362\n",
      "Epoch 2/100\n",
      "274/274 [==============================] - 0s 60us/step - loss: 0.6562 - accuracy: 0.7835 - val_loss: 0.6443 - val_accuracy: 0.8418\n",
      "Epoch 3/100\n",
      "274/274 [==============================] - 0s 49us/step - loss: 0.6504 - accuracy: 0.7981 - val_loss: 0.6378 - val_accuracy: 0.8362\n",
      "Epoch 4/100\n",
      "274/274 [==============================] - 0s 73us/step - loss: 0.6449 - accuracy: 0.7993 - val_loss: 0.6316 - val_accuracy: 0.8362\n",
      "Epoch 5/100\n",
      "274/274 [==============================] - 0s 90us/step - loss: 0.6396 - accuracy: 0.7956 - val_loss: 0.6256 - val_accuracy: 0.8418\n",
      "Epoch 6/100\n",
      "274/274 [==============================] - 0s 50us/step - loss: 0.6344 - accuracy: 0.7932 - val_loss: 0.6198 - val_accuracy: 0.8362\n",
      "Epoch 7/100\n",
      "274/274 [==============================] - 0s 70us/step - loss: 0.6295 - accuracy: 0.7871 - val_loss: 0.6141 - val_accuracy: 0.8362\n",
      "Epoch 8/100\n",
      "274/274 [==============================] - 0s 72us/step - loss: 0.6246 - accuracy: 0.7810 - val_loss: 0.6087 - val_accuracy: 0.8305\n",
      "Epoch 9/100\n",
      "274/274 [==============================] - 0s 62us/step - loss: 0.6200 - accuracy: 0.7847 - val_loss: 0.6034 - val_accuracy: 0.8136\n",
      "Epoch 10/100\n",
      "274/274 [==============================] - 0s 61us/step - loss: 0.6154 - accuracy: 0.7859 - val_loss: 0.5982 - val_accuracy: 0.8192\n",
      "Epoch 11/100\n",
      "274/274 [==============================] - 0s 113us/step - loss: 0.6110 - accuracy: 0.7786 - val_loss: 0.5932 - val_accuracy: 0.8192\n",
      "Epoch 12/100\n",
      "274/274 [==============================] - 0s 92us/step - loss: 0.6067 - accuracy: 0.7762 - val_loss: 0.5882 - val_accuracy: 0.8192\n",
      "Epoch 13/100\n",
      "274/274 [==============================] - 0s 93us/step - loss: 0.6025 - accuracy: 0.7725 - val_loss: 0.5833 - val_accuracy: 0.8136\n",
      "Epoch 14/100\n",
      "274/274 [==============================] - 0s 86us/step - loss: 0.5983 - accuracy: 0.7603 - val_loss: 0.5788 - val_accuracy: 0.8023\n",
      "Epoch 15/100\n",
      "274/274 [==============================] - 0s 96us/step - loss: 0.5945 - accuracy: 0.7591 - val_loss: 0.5742 - val_accuracy: 0.7966\n",
      "Epoch 16/100\n",
      "274/274 [==============================] - 0s 156us/step - loss: 0.5906 - accuracy: 0.7579 - val_loss: 0.5697 - val_accuracy: 0.7966\n",
      "Epoch 17/100\n",
      "274/274 [==============================] - 0s 75us/step - loss: 0.5868 - accuracy: 0.7591 - val_loss: 0.5655 - val_accuracy: 0.7910\n",
      "Epoch 18/100\n",
      "274/274 [==============================] - 0s 60us/step - loss: 0.5832 - accuracy: 0.7579 - val_loss: 0.5612 - val_accuracy: 0.7910\n",
      "Epoch 19/100\n",
      "274/274 [==============================] - 0s 78us/step - loss: 0.5796 - accuracy: 0.7664 - val_loss: 0.5570 - val_accuracy: 0.7910\n",
      "Epoch 20/100\n",
      "274/274 [==============================] - 0s 63us/step - loss: 0.5761 - accuracy: 0.7664 - val_loss: 0.5529 - val_accuracy: 0.7966\n",
      "Epoch 21/100\n",
      "274/274 [==============================] - 0s 82us/step - loss: 0.5727 - accuracy: 0.7701 - val_loss: 0.5489 - val_accuracy: 0.7966\n",
      "Epoch 22/100\n",
      "274/274 [==============================] - 0s 56us/step - loss: 0.5694 - accuracy: 0.7689 - val_loss: 0.5449 - val_accuracy: 0.7966\n",
      "Epoch 23/100\n",
      "274/274 [==============================] - 0s 87us/step - loss: 0.5660 - accuracy: 0.7725 - val_loss: 0.5411 - val_accuracy: 0.7966\n",
      "Epoch 24/100\n",
      "274/274 [==============================] - 0s 77us/step - loss: 0.5628 - accuracy: 0.7737 - val_loss: 0.5374 - val_accuracy: 0.8023\n",
      "Epoch 25/100\n",
      "274/274 [==============================] - 0s 79us/step - loss: 0.5597 - accuracy: 0.7762 - val_loss: 0.5337 - val_accuracy: 0.8023\n",
      "Epoch 26/100\n",
      "274/274 [==============================] - 0s 78us/step - loss: 0.5567 - accuracy: 0.7798 - val_loss: 0.5302 - val_accuracy: 0.8023\n",
      "Epoch 27/100\n",
      "274/274 [==============================] - 0s 83us/step - loss: 0.5537 - accuracy: 0.7786 - val_loss: 0.5267 - val_accuracy: 0.8023\n",
      "Epoch 28/100\n",
      "274/274 [==============================] - 0s 86us/step - loss: 0.5508 - accuracy: 0.7822 - val_loss: 0.5233 - val_accuracy: 0.8023\n",
      "Epoch 29/100\n",
      "274/274 [==============================] - 0s 83us/step - loss: 0.5479 - accuracy: 0.7847 - val_loss: 0.5199 - val_accuracy: 0.8079\n",
      "Epoch 30/100\n",
      "274/274 [==============================] - 0s 104us/step - loss: 0.5452 - accuracy: 0.7847 - val_loss: 0.5168 - val_accuracy: 0.8079\n",
      "Epoch 31/100\n",
      "274/274 [==============================] - 0s 91us/step - loss: 0.5425 - accuracy: 0.7859 - val_loss: 0.5136 - val_accuracy: 0.8079\n",
      "Epoch 32/100\n",
      "274/274 [==============================] - 0s 92us/step - loss: 0.5399 - accuracy: 0.7847 - val_loss: 0.5105 - val_accuracy: 0.8079\n",
      "Epoch 33/100\n",
      "274/274 [==============================] - 0s 88us/step - loss: 0.5374 - accuracy: 0.7847 - val_loss: 0.5073 - val_accuracy: 0.8079\n",
      "Epoch 34/100\n",
      "274/274 [==============================] - 0s 68us/step - loss: 0.5348 - accuracy: 0.7871 - val_loss: 0.5044 - val_accuracy: 0.8079\n",
      "Epoch 35/100\n",
      "274/274 [==============================] - 0s 54us/step - loss: 0.5324 - accuracy: 0.7859 - val_loss: 0.5015 - val_accuracy: 0.8079\n",
      "Epoch 36/100\n",
      "274/274 [==============================] - 0s 104us/step - loss: 0.5300 - accuracy: 0.7871 - val_loss: 0.4987 - val_accuracy: 0.8079\n",
      "Epoch 37/100\n",
      "274/274 [==============================] - 0s 98us/step - loss: 0.5277 - accuracy: 0.7859 - val_loss: 0.4959 - val_accuracy: 0.8079\n",
      "Epoch 38/100\n",
      "274/274 [==============================] - 0s 78us/step - loss: 0.5254 - accuracy: 0.7859 - val_loss: 0.4931 - val_accuracy: 0.8079\n",
      "Epoch 39/100\n",
      "274/274 [==============================] - 0s 67us/step - loss: 0.5231 - accuracy: 0.7859 - val_loss: 0.4904 - val_accuracy: 0.8079\n",
      "Epoch 40/100\n",
      "274/274 [==============================] - 0s 74us/step - loss: 0.5209 - accuracy: 0.7859 - val_loss: 0.4878 - val_accuracy: 0.8079\n",
      "Epoch 41/100\n",
      "274/274 [==============================] - 0s 77us/step - loss: 0.5187 - accuracy: 0.7859 - val_loss: 0.4851 - val_accuracy: 0.8079\n",
      "Epoch 42/100\n",
      "274/274 [==============================] - 0s 57us/step - loss: 0.5165 - accuracy: 0.7859 - val_loss: 0.4825 - val_accuracy: 0.8079\n",
      "Epoch 43/100\n",
      "274/274 [==============================] - 0s 70us/step - loss: 0.5144 - accuracy: 0.7859 - val_loss: 0.4800 - val_accuracy: 0.8023\n",
      "Epoch 44/100\n",
      "274/274 [==============================] - 0s 77us/step - loss: 0.5123 - accuracy: 0.7847 - val_loss: 0.4776 - val_accuracy: 0.8023\n",
      "Epoch 45/100\n",
      "274/274 [==============================] - 0s 62us/step - loss: 0.5103 - accuracy: 0.7859 - val_loss: 0.4751 - val_accuracy: 0.8023\n",
      "Epoch 46/100\n",
      "274/274 [==============================] - 0s 82us/step - loss: 0.5082 - accuracy: 0.7847 - val_loss: 0.4727 - val_accuracy: 0.8023\n",
      "Epoch 47/100\n",
      "274/274 [==============================] - 0s 64us/step - loss: 0.5061 - accuracy: 0.7822 - val_loss: 0.4702 - val_accuracy: 0.8023\n",
      "Epoch 48/100\n",
      "274/274 [==============================] - 0s 63us/step - loss: 0.5041 - accuracy: 0.7822 - val_loss: 0.4679 - val_accuracy: 0.7966\n",
      "Epoch 49/100\n",
      "274/274 [==============================] - 0s 68us/step - loss: 0.5022 - accuracy: 0.7822 - val_loss: 0.4655 - val_accuracy: 0.7966\n",
      "Epoch 50/100\n",
      "274/274 [==============================] - 0s 86us/step - loss: 0.5002 - accuracy: 0.7822 - val_loss: 0.4632 - val_accuracy: 0.7966\n",
      "Epoch 51/100\n",
      "274/274 [==============================] - 0s 75us/step - loss: 0.4983 - accuracy: 0.7810 - val_loss: 0.4609 - val_accuracy: 0.7966\n",
      "Epoch 52/100\n",
      "274/274 [==============================] - 0s 72us/step - loss: 0.4963 - accuracy: 0.7798 - val_loss: 0.4586 - val_accuracy: 0.7966\n",
      "Epoch 53/100\n",
      "274/274 [==============================] - 0s 51us/step - loss: 0.4944 - accuracy: 0.7786 - val_loss: 0.4563 - val_accuracy: 0.7966\n",
      "Epoch 54/100\n",
      "274/274 [==============================] - 0s 81us/step - loss: 0.4926 - accuracy: 0.7774 - val_loss: 0.4541 - val_accuracy: 0.7966\n",
      "Epoch 55/100\n",
      "274/274 [==============================] - 0s 89us/step - loss: 0.4907 - accuracy: 0.7786 - val_loss: 0.4519 - val_accuracy: 0.7910\n",
      "Epoch 56/100\n",
      "274/274 [==============================] - 0s 69us/step - loss: 0.4888 - accuracy: 0.7737 - val_loss: 0.4497 - val_accuracy: 0.7910\n",
      "Epoch 57/100\n",
      "274/274 [==============================] - 0s 84us/step - loss: 0.4869 - accuracy: 0.7737 - val_loss: 0.4475 - val_accuracy: 0.7910\n",
      "Epoch 58/100\n",
      "274/274 [==============================] - 0s 64us/step - loss: 0.4851 - accuracy: 0.7737 - val_loss: 0.4453 - val_accuracy: 0.7910\n",
      "Epoch 59/100\n",
      "274/274 [==============================] - 0s 56us/step - loss: 0.4832 - accuracy: 0.7713 - val_loss: 0.4431 - val_accuracy: 0.7966\n",
      "Epoch 60/100\n",
      "274/274 [==============================] - 0s 62us/step - loss: 0.4814 - accuracy: 0.7725 - val_loss: 0.4410 - val_accuracy: 0.7910\n",
      "Epoch 61/100\n",
      "274/274 [==============================] - 0s 55us/step - loss: 0.4796 - accuracy: 0.7725 - val_loss: 0.4389 - val_accuracy: 0.7910\n",
      "Epoch 62/100\n",
      "274/274 [==============================] - 0s 53us/step - loss: 0.4778 - accuracy: 0.7749 - val_loss: 0.4368 - val_accuracy: 0.7910\n",
      "Epoch 63/100\n",
      "274/274 [==============================] - 0s 55us/step - loss: 0.4761 - accuracy: 0.7774 - val_loss: 0.4346 - val_accuracy: 0.7910\n",
      "Epoch 64/100\n",
      "274/274 [==============================] - 0s 58us/step - loss: 0.4742 - accuracy: 0.7810 - val_loss: 0.4325 - val_accuracy: 0.7910\n",
      "Epoch 65/100\n",
      "274/274 [==============================] - 0s 52us/step - loss: 0.4724 - accuracy: 0.7847 - val_loss: 0.4304 - val_accuracy: 0.7910\n",
      "Epoch 66/100\n",
      "274/274 [==============================] - 0s 58us/step - loss: 0.4706 - accuracy: 0.7859 - val_loss: 0.4283 - val_accuracy: 0.7910\n",
      "Epoch 67/100\n",
      "274/274 [==============================] - 0s 56us/step - loss: 0.4689 - accuracy: 0.7859 - val_loss: 0.4263 - val_accuracy: 0.7910\n",
      "Epoch 68/100\n",
      "274/274 [==============================] - 0s 52us/step - loss: 0.4671 - accuracy: 0.7871 - val_loss: 0.4241 - val_accuracy: 0.7966\n",
      "Epoch 69/100\n",
      "274/274 [==============================] - 0s 55us/step - loss: 0.4653 - accuracy: 0.7908 - val_loss: 0.4221 - val_accuracy: 0.7966\n",
      "Epoch 70/100\n",
      "274/274 [==============================] - 0s 57us/step - loss: 0.4636 - accuracy: 0.7908 - val_loss: 0.4201 - val_accuracy: 0.7966\n",
      "Epoch 71/100\n",
      "274/274 [==============================] - 0s 55us/step - loss: 0.4618 - accuracy: 0.7968 - val_loss: 0.4180 - val_accuracy: 0.8023\n",
      "Epoch 72/100\n",
      "274/274 [==============================] - 0s 56us/step - loss: 0.4601 - accuracy: 0.7944 - val_loss: 0.4160 - val_accuracy: 0.8023\n",
      "Epoch 73/100\n",
      "274/274 [==============================] - 0s 58us/step - loss: 0.4584 - accuracy: 0.7956 - val_loss: 0.4140 - val_accuracy: 0.8079\n",
      "Epoch 74/100\n",
      "274/274 [==============================] - 0s 56us/step - loss: 0.4566 - accuracy: 0.7968 - val_loss: 0.4120 - val_accuracy: 0.8079\n",
      "Epoch 75/100\n",
      "274/274 [==============================] - 0s 55us/step - loss: 0.4549 - accuracy: 0.7981 - val_loss: 0.4099 - val_accuracy: 0.8079\n",
      "Epoch 76/100\n",
      "274/274 [==============================] - 0s 47us/step - loss: 0.4532 - accuracy: 0.8066 - val_loss: 0.4079 - val_accuracy: 0.8192\n",
      "Epoch 77/100\n",
      "274/274 [==============================] - 0s 43us/step - loss: 0.4515 - accuracy: 0.8066 - val_loss: 0.4060 - val_accuracy: 0.8305\n",
      "Epoch 78/100\n",
      "274/274 [==============================] - 0s 49us/step - loss: 0.4497 - accuracy: 0.8078 - val_loss: 0.4040 - val_accuracy: 0.8305\n",
      "Epoch 79/100\n",
      "274/274 [==============================] - 0s 52us/step - loss: 0.4480 - accuracy: 0.8090 - val_loss: 0.4021 - val_accuracy: 0.8305\n",
      "Epoch 80/100\n",
      "274/274 [==============================] - 0s 51us/step - loss: 0.4464 - accuracy: 0.8139 - val_loss: 0.4002 - val_accuracy: 0.8305\n",
      "Epoch 81/100\n",
      "274/274 [==============================] - 0s 49us/step - loss: 0.4446 - accuracy: 0.8163 - val_loss: 0.3983 - val_accuracy: 0.8362\n",
      "Epoch 82/100\n",
      "274/274 [==============================] - 0s 54us/step - loss: 0.4430 - accuracy: 0.8200 - val_loss: 0.3964 - val_accuracy: 0.8362\n",
      "Epoch 83/100\n",
      "274/274 [==============================] - 0s 49us/step - loss: 0.4414 - accuracy: 0.8212 - val_loss: 0.3946 - val_accuracy: 0.8362\n",
      "Epoch 84/100\n",
      "274/274 [==============================] - 0s 55us/step - loss: 0.4397 - accuracy: 0.8212 - val_loss: 0.3927 - val_accuracy: 0.8362\n",
      "Epoch 85/100\n",
      "274/274 [==============================] - 0s 55us/step - loss: 0.4380 - accuracy: 0.8224 - val_loss: 0.3908 - val_accuracy: 0.8362\n",
      "Epoch 86/100\n",
      "274/274 [==============================] - 0s 57us/step - loss: 0.4364 - accuracy: 0.8224 - val_loss: 0.3890 - val_accuracy: 0.8362\n",
      "Epoch 87/100\n",
      "274/274 [==============================] - 0s 56us/step - loss: 0.4348 - accuracy: 0.8224 - val_loss: 0.3871 - val_accuracy: 0.8418\n",
      "Epoch 88/100\n",
      "274/274 [==============================] - 0s 55us/step - loss: 0.4331 - accuracy: 0.8273 - val_loss: 0.3853 - val_accuracy: 0.8418\n",
      "Epoch 89/100\n",
      "274/274 [==============================] - 0s 52us/step - loss: 0.4315 - accuracy: 0.8285 - val_loss: 0.3835 - val_accuracy: 0.8418\n",
      "Epoch 90/100\n",
      "274/274 [==============================] - 0s 51us/step - loss: 0.4298 - accuracy: 0.8273 - val_loss: 0.3818 - val_accuracy: 0.8418\n",
      "Epoch 91/100\n",
      "274/274 [==============================] - 0s 55us/step - loss: 0.4282 - accuracy: 0.8273 - val_loss: 0.3800 - val_accuracy: 0.8418\n",
      "Epoch 92/100\n",
      "274/274 [==============================] - 0s 50us/step - loss: 0.4266 - accuracy: 0.8285 - val_loss: 0.3783 - val_accuracy: 0.8362\n",
      "Epoch 93/100\n",
      "274/274 [==============================] - 0s 48us/step - loss: 0.4251 - accuracy: 0.8297 - val_loss: 0.3765 - val_accuracy: 0.8362\n",
      "Epoch 94/100\n",
      "274/274 [==============================] - 0s 46us/step - loss: 0.4235 - accuracy: 0.8309 - val_loss: 0.3748 - val_accuracy: 0.8362\n",
      "Epoch 95/100\n",
      "274/274 [==============================] - 0s 47us/step - loss: 0.4219 - accuracy: 0.8309 - val_loss: 0.3732 - val_accuracy: 0.8418\n",
      "Epoch 96/100\n",
      "274/274 [==============================] - 0s 46us/step - loss: 0.4204 - accuracy: 0.8309 - val_loss: 0.3715 - val_accuracy: 0.8418\n",
      "Epoch 97/100\n",
      "274/274 [==============================] - 0s 45us/step - loss: 0.4189 - accuracy: 0.8333 - val_loss: 0.3699 - val_accuracy: 0.8418\n",
      "Epoch 98/100\n",
      "274/274 [==============================] - 0s 54us/step - loss: 0.4174 - accuracy: 0.8333 - val_loss: 0.3682 - val_accuracy: 0.8418\n",
      "Epoch 99/100\n",
      "274/274 [==============================] - 0s 52us/step - loss: 0.4159 - accuracy: 0.8333 - val_loss: 0.3666 - val_accuracy: 0.8418\n",
      "Epoch 100/100\n",
      "274/274 [==============================] - 0s 56us/step - loss: 0.4144 - accuracy: 0.8345 - val_loss: 0.3650 - val_accuracy: 0.8418\n"
     ]
    }
   ],
   "source": [
    "hist = model.fit(X_train, Y_train, batch_size=32, epochs=100, validation_data=(X_val, Y_val))"
   ]
  },
  {
   "cell_type": "code",
   "execution_count": 176,
   "metadata": {},
   "outputs": [
    {
     "name": "stdout",
     "output_type": "stream",
     "text": [
      "59/59 [==============================] - 0s 147us/step\n"
     ]
    },
    {
     "data": {
      "text/plain": [
       "0.8474576473236084"
      ]
     },
     "execution_count": 176,
     "metadata": {},
     "output_type": "execute_result"
    }
   ],
   "source": [
    "model.evaluate(X_test, Y_test)[1]"
   ]
  },
  {
   "cell_type": "code",
   "execution_count": 146,
   "metadata": {},
   "outputs": [
    {
     "data": {
      "image/png": "[encoded data removed]",
      "text/plain": [
       "<Figure size 432x288 with 1 Axes>"
      ]
     },
     "metadata": {
      "needs_background": "light"
     },
     "output_type": "display_data"
    }
   ],
   "source": [
    "plt.plot(hist.history['loss'])\n",
    "plt.plot(hist.history['val_loss'])\n",
    "plt.title('Model loss')\n",
    "plt.ylabel('Loss')\n",
    "plt.xlabel('Epoch')\n",
    "plt.legend(['Train', 'Val'], loc='upper right')\n",
    "plt.show()"
   ]
  },
  {
   "cell_type": "code",
   "execution_count": 173,
   "metadata": {},
   "outputs": [],
   "source": [
    "Y_pred = model.predict(X_test)"
   ]
  },
  {
   "cell_type": "code",
   "execution_count": 175,
   "metadata": {},
   "outputs": [
    {
     "data": {
      "text/plain": [
       "(59, 6)"
      ]
     },
     "execution_count": 175,
     "metadata": {},
     "output_type": "execute_result"
    }
   ],
   "source": [
    "X_test.shape"
   ]
  },
  {
   "cell_type": "code",
   "execution_count": 174,
   "metadata": {},
   "outputs": [
    {
     "data": {
      "text/plain": [
       "array([[23,  3,  0],\n",
       "       [ 3, 24,  0],\n",
       "       [ 1,  5,  0]])"
      ]
     },
     "execution_count": 174,
     "metadata": {},
     "output_type": "execute_result"
    }
   ],
   "source": [
    "matrix = metrics.confusion_matrix(Y_test.argmax(axis=1), Y_pred.argmax(axis=1))\n",
    "matrix"
   ]
  },
  {
   "cell_type": "code",
   "execution_count": null,
   "metadata": {},
   "outputs": [],
   "source": []
  }
 ],
 "metadata": {
  "kernelspec": {
   "display_name": "Python 3",
   "language": "python",
   "name": "python3"
  },
  "language_info": {
   "codemirror_mode": {
    "name": "ipython",
    "version": 3
   },
   "file_extension": ".py",
   "mimetype": "text/x-python",
   "name": "python",
   "nbconvert_exporter": "python",
   "pygments_lexer": "ipython3",
   "version": "3.7.7"
  }
 },
 "nbformat": 4,
 "nbformat_minor": 4
}
